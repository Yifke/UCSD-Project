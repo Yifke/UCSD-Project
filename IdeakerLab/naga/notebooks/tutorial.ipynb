{
 "cells": [
  {
   "cell_type": "markdown",
   "metadata": {},
   "source": [
    "This notebook demonstrates the basic features of the `nbgwas` package."
   ]
  },
  {
   "cell_type": "code",
   "execution_count": 1,
   "metadata": {},
   "outputs": [],
   "source": [
    "%load_ext autoreload\n",
    "%autoreload 2\n",
    "%matplotlib inline"
   ]
  },
  {
   "cell_type": "code",
   "execution_count": 2,
   "metadata": {},
   "outputs": [],
   "source": [
    "import nbgwas\n",
    "from nbgwas import Nbgwas\n",
    "import numpy as np\n",
    "import pandas as pd"
   ]
  },
  {
   "cell_type": "code",
   "execution_count": 3,
   "metadata": {},
   "outputs": [
    {
     "data": {
      "text/plain": [
       "'0.4.1rc5'"
      ]
     },
     "execution_count": 3,
     "metadata": {},
     "output_type": "execute_result"
    }
   ],
   "source": [
    "nbgwas.__version__"
   ]
  },
  {
   "cell_type": "markdown",
   "metadata": {},
   "source": [
    "# Gathering data\n",
    "\n",
    "This package is flexible enough for nearly any GWAS summary statistics for any species, as long as the data is encoded in a table format. For this tutorial, we will use the data that is available on the <a href='http://nbgwas.ucsd.edu/nagadata'>package's companion website</a>. "
   ]
  },
  {
   "cell_type": "code",
   "execution_count": 4,
   "metadata": {},
   "outputs": [],
   "source": [
    "snp_level_summary_url = 'http://nbgwas.ucsd.edu/nagadata/schizophrenia.txt'\n",
    "protein_coding_url = 'http://nbgwas.ucsd.edu/nagadata/protein_coding/hg18.txt'\n",
    "\n",
    "snp_level_summary_df = pd.read_csv(snp_level_summary_url, sep='\\s+')\n",
    "#snp_level_summary_df = tmp_snp_summary.rename(index=str, columns={\"chromosome\": \"hg18chr\", \"basepair\": \"bp\", \"pvalue\": \"pval\"})\n",
    "protein_coding_df = pd.read_csv(protein_coding_url, sep='\\s+', names=['Chrom', 'Start', 'End'], index_col=0)"
   ]
  },
  {
   "cell_type": "markdown",
   "metadata": {},
   "source": [
    "Here is what they look like. "
   ]
  },
  {
   "cell_type": "code",
   "execution_count": 5,
   "metadata": {},
   "outputs": [
    {
     "data": {
      "text/html": [
       "<div>\n",
       "<style scoped>\n",
       "    .dataframe tbody tr th:only-of-type {\n",
       "        vertical-align: middle;\n",
       "    }\n",
       "\n",
       "    .dataframe tbody tr th {\n",
       "        vertical-align: top;\n",
       "    }\n",
       "\n",
       "    .dataframe thead th {\n",
       "        text-align: right;\n",
       "    }\n",
       "</style>\n",
       "<table border=\"1\" class=\"dataframe\">\n",
       "  <thead>\n",
       "    <tr style=\"text-align: right;\">\n",
       "      <th></th>\n",
       "      <th>snpid</th>\n",
       "      <th>chromosome</th>\n",
       "      <th>basepair</th>\n",
       "      <th>a1</th>\n",
       "      <th>a2</th>\n",
       "      <th>or</th>\n",
       "      <th>se</th>\n",
       "      <th>pvalue</th>\n",
       "      <th>info</th>\n",
       "      <th>ngt</th>\n",
       "      <th>CEUaf</th>\n",
       "    </tr>\n",
       "  </thead>\n",
       "  <tbody>\n",
       "    <tr>\n",
       "      <th>0</th>\n",
       "      <td>rs3131972</td>\n",
       "      <td>1</td>\n",
       "      <td>742584</td>\n",
       "      <td>A</td>\n",
       "      <td>G</td>\n",
       "      <td>1.0257</td>\n",
       "      <td>0.0835</td>\n",
       "      <td>0.761033</td>\n",
       "      <td>0.1613</td>\n",
       "      <td>0</td>\n",
       "      <td>0.16055</td>\n",
       "    </tr>\n",
       "    <tr>\n",
       "      <th>1</th>\n",
       "      <td>rs3131969</td>\n",
       "      <td>1</td>\n",
       "      <td>744045</td>\n",
       "      <td>A</td>\n",
       "      <td>G</td>\n",
       "      <td>1.0221</td>\n",
       "      <td>0.0801</td>\n",
       "      <td>0.784919</td>\n",
       "      <td>0.2225</td>\n",
       "      <td>0</td>\n",
       "      <td>0.133028</td>\n",
       "    </tr>\n",
       "    <tr>\n",
       "      <th>2</th>\n",
       "      <td>rs3131967</td>\n",
       "      <td>1</td>\n",
       "      <td>744197</td>\n",
       "      <td>T</td>\n",
       "      <td>C</td>\n",
       "      <td>1.0227</td>\n",
       "      <td>0.0858</td>\n",
       "      <td>0.793520</td>\n",
       "      <td>0.2060</td>\n",
       "      <td>0</td>\n",
       "      <td>.</td>\n",
       "    </tr>\n",
       "    <tr>\n",
       "      <th>3</th>\n",
       "      <td>rs1048488</td>\n",
       "      <td>1</td>\n",
       "      <td>750775</td>\n",
       "      <td>T</td>\n",
       "      <td>C</td>\n",
       "      <td>0.9749</td>\n",
       "      <td>0.0835</td>\n",
       "      <td>0.761041</td>\n",
       "      <td>0.1613</td>\n",
       "      <td>0</td>\n",
       "      <td>0.836449</td>\n",
       "    </tr>\n",
       "    <tr>\n",
       "      <th>4</th>\n",
       "      <td>rs12562034</td>\n",
       "      <td>1</td>\n",
       "      <td>758311</td>\n",
       "      <td>A</td>\n",
       "      <td>G</td>\n",
       "      <td>1.0011</td>\n",
       "      <td>0.0756</td>\n",
       "      <td>0.987899</td>\n",
       "      <td>0.1856</td>\n",
       "      <td>3</td>\n",
       "      <td>0.0925926</td>\n",
       "    </tr>\n",
       "  </tbody>\n",
       "</table>\n",
       "</div>"
      ],
      "text/plain": [
       "        snpid  chromosome  basepair a1 a2      or      se    pvalue    info  \\\n",
       "0   rs3131972           1    742584  A  G  1.0257  0.0835  0.761033  0.1613   \n",
       "1   rs3131969           1    744045  A  G  1.0221  0.0801  0.784919  0.2225   \n",
       "2   rs3131967           1    744197  T  C  1.0227  0.0858  0.793520  0.2060   \n",
       "3   rs1048488           1    750775  T  C  0.9749  0.0835  0.761041  0.1613   \n",
       "4  rs12562034           1    758311  A  G  1.0011  0.0756  0.987899  0.1856   \n",
       "\n",
       "   ngt      CEUaf  \n",
       "0    0    0.16055  \n",
       "1    0   0.133028  \n",
       "2    0          .  \n",
       "3    0   0.836449  \n",
       "4    3  0.0925926  "
      ]
     },
     "execution_count": 5,
     "metadata": {},
     "output_type": "execute_result"
    }
   ],
   "source": [
    "snp_level_summary_df.head()"
   ]
  },
  {
   "cell_type": "code",
   "execution_count": 6,
   "metadata": {},
   "outputs": [
    {
     "data": {
      "text/html": [
       "<div>\n",
       "<style scoped>\n",
       "    .dataframe tbody tr th:only-of-type {\n",
       "        vertical-align: middle;\n",
       "    }\n",
       "\n",
       "    .dataframe tbody tr th {\n",
       "        vertical-align: top;\n",
       "    }\n",
       "\n",
       "    .dataframe thead th {\n",
       "        text-align: right;\n",
       "    }\n",
       "</style>\n",
       "<table border=\"1\" class=\"dataframe\">\n",
       "  <thead>\n",
       "    <tr style=\"text-align: right;\">\n",
       "      <th></th>\n",
       "      <th>Chrom</th>\n",
       "      <th>Start</th>\n",
       "      <th>End</th>\n",
       "    </tr>\n",
       "  </thead>\n",
       "  <tbody>\n",
       "    <tr>\n",
       "      <th>A1BG</th>\n",
       "      <td>19</td>\n",
       "      <td>63551643</td>\n",
       "      <td>63565932</td>\n",
       "    </tr>\n",
       "    <tr>\n",
       "      <th>A1CF</th>\n",
       "      <td>10</td>\n",
       "      <td>52271589</td>\n",
       "      <td>52315441</td>\n",
       "    </tr>\n",
       "    <tr>\n",
       "      <th>A2M</th>\n",
       "      <td>12</td>\n",
       "      <td>9111570</td>\n",
       "      <td>9159825</td>\n",
       "    </tr>\n",
       "    <tr>\n",
       "      <th>A2ML1</th>\n",
       "      <td>12</td>\n",
       "      <td>8911704</td>\n",
       "      <td>8930864</td>\n",
       "    </tr>\n",
       "    <tr>\n",
       "      <th>A3GALT2</th>\n",
       "      <td>1</td>\n",
       "      <td>33544953</td>\n",
       "      <td>33559286</td>\n",
       "    </tr>\n",
       "  </tbody>\n",
       "</table>\n",
       "</div>"
      ],
      "text/plain": [
       "        Chrom     Start       End\n",
       "A1BG       19  63551643  63565932\n",
       "A1CF       10  52271589  52315441\n",
       "A2M        12   9111570   9159825\n",
       "A2ML1      12   8911704   8930864\n",
       "A3GALT2     1  33544953  33559286"
      ]
     },
     "execution_count": 6,
     "metadata": {},
     "output_type": "execute_result"
    }
   ],
   "source": [
    "protein_coding_df.head()"
   ]
  },
  {
   "cell_type": "markdown",
   "metadata": {},
   "source": [
    "# Working with SNP and Genes Tables"
   ]
  },
  {
   "cell_type": "markdown",
   "metadata": {},
   "source": [
    "`Nbgwas` requires two major components to work properly--**gene level summary** that contains p-values from genes, available from the `Genes` object, and a **network** that describes how the genes are connected, available from the `Network` objects. For genome wide association studies (GWAS), genomic information will be at the single nucleotide level. `Nbgwas` contains a class called `Snps` to handle this case.  \n",
    "\n",
    "To gain access to the these internal objects, first instantiate the `Nbgwas` client by calling the constructor. If you have gene level information in the form of `pandas` Dataframe and a network in either `networkx` or `igraph` object, you can provide these to the constructor as well. See the manual or use the `help` function for more information. "
   ]
  },
  {
   "cell_type": "code",
   "execution_count": 7,
   "metadata": {},
   "outputs": [
    {
     "name": "stdout",
     "output_type": "stream",
     "text": [
      "<Snps> object\n",
      "<Genes> object containing 0 genes\n",
      "<nbgwas.network.NxNetwork object at 0x7fe011ae1be0>\n"
     ]
    }
   ],
   "source": [
    "g = Nbgwas()\n",
    "\n",
    "print(g.snps)\n",
    "print(g.genes)\n",
    "print(g.network)"
   ]
  },
  {
   "cell_type": "markdown",
   "metadata": {},
   "source": [
    "Note that by instantiating the client, you will gain access to the all the methods asscoiated with the necessary objects even if there is no internal data. \n",
    "\n",
    "To load a SNP level summary, you can use the `from_file` method from the `snps` attribute. In order for `Nbgwas` to interpret the SNP locations, protein coding tables must also be provided along with the SNP table. The protein coding table describes where the locations on the genome so that `Nbgwas` can determine which of the coding gene, if any, a gene is closest to. All keyword arguments to pandas `read_csv` can be supplied as a keyword dictionary using `snp_kwargs` and `pc_kwargs`.\n",
    "\n",
    "You can create an `Nbgwas` object using the constructor as well. "
   ]
  },
  {
   "cell_type": "code",
   "execution_count": 8,
   "metadata": {},
   "outputs": [],
   "source": [
    "g = Nbgwas(\n",
    "    snp_level_summary=snp_level_summary_df, \n",
    "    snp_chrom_col=\"chromosome\", \n",
    "    bp_col=\"basepair\", \n",
    "    snp_pval_col=\"pvalue\",\n",
    "    \n",
    "    protein_coding_table = protein_coding_df    \n",
    ")"
   ]
  },
  {
   "cell_type": "markdown",
   "metadata": {},
   "source": [
    "To map SNPs to genes, you can use the `assign_snps_to_genes` in the `Snps` object."
   ]
  },
  {
   "cell_type": "code",
   "execution_count": 9,
   "metadata": {},
   "outputs": [],
   "source": [
    "g.genes = g.snps.assign_snps_to_genes(window_size=10000, to_Gene=True)"
   ]
  },
  {
   "cell_type": "markdown",
   "metadata": {},
   "source": [
    "Alternatively, you can provide your own gene level summary that has mapped single nucleotide polymorphisms to genes. Note, doing this will overwrite the existing gene level summary. To load a gene level summary, use the `from_file` method associated with the `Genes` object which is pre-instantiated in Nbgwas `genes` attribute. This method allows the user to provide any keyword arguments associated with the `pandas` `read_csv` function. Additionally, the user needs to provide the column name associated with the p-values (`pval_col`) and gene name (`name_col`)."
   ]
  },
  {
   "cell_type": "code",
   "execution_count": 10,
   "metadata": {},
   "outputs": [
    {
     "data": {
      "text/plain": [
       "<Genes> object containing 14966 genes"
      ]
     },
     "execution_count": 10,
     "metadata": {},
     "output_type": "execute_result"
    }
   ],
   "source": [
    "gene_level_summary_file = 'http://nbgwas.ucsd.edu/nagadata/example_input/gene_level_summary_stats_pmid_25056061.txt'\n",
    "\n",
    "g.genes.from_file(\n",
    "    gene_level_summary_file, \n",
    "    sep='\\t', index_col=0, \n",
    "    pval_col='TopSNP P-Value', \n",
    "    name_col='Gene'\n",
    ")"
   ]
  },
  {
   "cell_type": "markdown",
   "metadata": {},
   "source": [
    "This table is loaded to the `table` attribute and can be accessed as follows. "
   ]
  },
  {
   "cell_type": "code",
   "execution_count": 11,
   "metadata": {},
   "outputs": [
    {
     "data": {
      "text/html": [
       "<div>\n",
       "<style scoped>\n",
       "    .dataframe tbody tr th:only-of-type {\n",
       "        vertical-align: middle;\n",
       "    }\n",
       "\n",
       "    .dataframe tbody tr th {\n",
       "        vertical-align: top;\n",
       "    }\n",
       "\n",
       "    .dataframe thead th {\n",
       "        text-align: right;\n",
       "    }\n",
       "</style>\n",
       "<table border=\"1\" class=\"dataframe\">\n",
       "  <thead>\n",
       "    <tr style=\"text-align: right;\">\n",
       "      <th></th>\n",
       "      <th>Gene</th>\n",
       "      <th>Chr</th>\n",
       "      <th>Gene Start</th>\n",
       "      <th>Gene End</th>\n",
       "      <th>nSNPs</th>\n",
       "      <th>TopSNP</th>\n",
       "      <th>TopSNP Pos</th>\n",
       "      <th>TopSNP P-Value</th>\n",
       "      <th>SNP Distance</th>\n",
       "    </tr>\n",
       "  </thead>\n",
       "  <tbody>\n",
       "    <tr>\n",
       "      <th>5905</th>\n",
       "      <td>HIST1H4K</td>\n",
       "      <td>6</td>\n",
       "      <td>27906930</td>\n",
       "      <td>27907284</td>\n",
       "      <td>8</td>\n",
       "      <td>rs34706883</td>\n",
       "      <td>27913234.0</td>\n",
       "      <td>5.071180e-10</td>\n",
       "      <td>6304.0</td>\n",
       "    </tr>\n",
       "    <tr>\n",
       "      <th>5867</th>\n",
       "      <td>HIST1H2AK</td>\n",
       "      <td>6</td>\n",
       "      <td>27913636</td>\n",
       "      <td>27914096</td>\n",
       "      <td>16</td>\n",
       "      <td>rs34706883</td>\n",
       "      <td>27913234.0</td>\n",
       "      <td>5.071180e-10</td>\n",
       "      <td>402.0</td>\n",
       "    </tr>\n",
       "    <tr>\n",
       "      <th>5883</th>\n",
       "      <td>HIST1H2BN</td>\n",
       "      <td>6</td>\n",
       "      <td>27914418</td>\n",
       "      <td>27914867</td>\n",
       "      <td>17</td>\n",
       "      <td>rs34706883</td>\n",
       "      <td>27913234.0</td>\n",
       "      <td>5.071180e-10</td>\n",
       "      <td>1184.0</td>\n",
       "    </tr>\n",
       "    <tr>\n",
       "      <th>5868</th>\n",
       "      <td>HIST1H2AL</td>\n",
       "      <td>6</td>\n",
       "      <td>27941085</td>\n",
       "      <td>27941555</td>\n",
       "      <td>10</td>\n",
       "      <td>rs13199772</td>\n",
       "      <td>27942064.0</td>\n",
       "      <td>7.053790e-10</td>\n",
       "      <td>979.0</td>\n",
       "    </tr>\n",
       "    <tr>\n",
       "      <th>5855</th>\n",
       "      <td>HIST1H1B</td>\n",
       "      <td>6</td>\n",
       "      <td>27942548</td>\n",
       "      <td>27943338</td>\n",
       "      <td>10</td>\n",
       "      <td>rs13199772</td>\n",
       "      <td>27942064.0</td>\n",
       "      <td>7.053790e-10</td>\n",
       "      <td>484.0</td>\n",
       "    </tr>\n",
       "  </tbody>\n",
       "</table>\n",
       "</div>"
      ],
      "text/plain": [
       "           Gene  Chr  Gene Start  Gene End  nSNPs      TopSNP  TopSNP Pos  \\\n",
       "5905   HIST1H4K    6    27906930  27907284      8  rs34706883  27913234.0   \n",
       "5867  HIST1H2AK    6    27913636  27914096     16  rs34706883  27913234.0   \n",
       "5883  HIST1H2BN    6    27914418  27914867     17  rs34706883  27913234.0   \n",
       "5868  HIST1H2AL    6    27941085  27941555     10  rs13199772  27942064.0   \n",
       "5855   HIST1H1B    6    27942548  27943338     10  rs13199772  27942064.0   \n",
       "\n",
       "      TopSNP P-Value  SNP Distance  \n",
       "5905    5.071180e-10        6304.0  \n",
       "5867    5.071180e-10         402.0  \n",
       "5883    5.071180e-10        1184.0  \n",
       "5868    7.053790e-10         979.0  \n",
       "5855    7.053790e-10         484.0  "
      ]
     },
     "execution_count": 11,
     "metadata": {},
     "output_type": "execute_result"
    }
   ],
   "source": [
    "g.genes.table.head()"
   ]
  },
  {
   "cell_type": "markdown",
   "metadata": {},
   "source": [
    "In order to convert the p-values to heat, you can use the `convert_to_heat` method associated with the `Genes` object. The result is appended to the table. "
   ]
  },
  {
   "cell_type": "code",
   "execution_count": 12,
   "metadata": {},
   "outputs": [
    {
     "data": {
      "text/html": [
       "<div>\n",
       "<style scoped>\n",
       "    .dataframe tbody tr th:only-of-type {\n",
       "        vertical-align: middle;\n",
       "    }\n",
       "\n",
       "    .dataframe tbody tr th {\n",
       "        vertical-align: top;\n",
       "    }\n",
       "\n",
       "    .dataframe thead th {\n",
       "        text-align: right;\n",
       "    }\n",
       "</style>\n",
       "<table border=\"1\" class=\"dataframe\">\n",
       "  <thead>\n",
       "    <tr style=\"text-align: right;\">\n",
       "      <th></th>\n",
       "      <th>Gene</th>\n",
       "      <th>Chr</th>\n",
       "      <th>Gene Start</th>\n",
       "      <th>Gene End</th>\n",
       "      <th>nSNPs</th>\n",
       "      <th>TopSNP</th>\n",
       "      <th>TopSNP Pos</th>\n",
       "      <th>TopSNP P-Value</th>\n",
       "      <th>SNP Distance</th>\n",
       "      <th>Binarized Heat</th>\n",
       "    </tr>\n",
       "  </thead>\n",
       "  <tbody>\n",
       "    <tr>\n",
       "      <th>5905</th>\n",
       "      <td>HIST1H4K</td>\n",
       "      <td>6</td>\n",
       "      <td>27906930</td>\n",
       "      <td>27907284</td>\n",
       "      <td>8</td>\n",
       "      <td>rs34706883</td>\n",
       "      <td>27913234.0</td>\n",
       "      <td>5.071180e-10</td>\n",
       "      <td>6304.0</td>\n",
       "      <td>1.0</td>\n",
       "    </tr>\n",
       "    <tr>\n",
       "      <th>2009</th>\n",
       "      <td>CCDC39</td>\n",
       "      <td>3</td>\n",
       "      <td>181908070</td>\n",
       "      <td>182070660</td>\n",
       "      <td>56</td>\n",
       "      <td>rs1879248</td>\n",
       "      <td>182033908.0</td>\n",
       "      <td>1.272380e-06</td>\n",
       "      <td>125838.0</td>\n",
       "      <td>1.0</td>\n",
       "    </tr>\n",
       "    <tr>\n",
       "      <th>12335</th>\n",
       "      <td>SLC17A3</td>\n",
       "      <td>6</td>\n",
       "      <td>25953306</td>\n",
       "      <td>25982450</td>\n",
       "      <td>37</td>\n",
       "      <td>rs9461219</td>\n",
       "      <td>25944906.0</td>\n",
       "      <td>4.003060e-07</td>\n",
       "      <td>8400.0</td>\n",
       "      <td>1.0</td>\n",
       "    </tr>\n",
       "    <tr>\n",
       "      <th>1416</th>\n",
       "      <td>BTN3A2</td>\n",
       "      <td>6</td>\n",
       "      <td>26476384</td>\n",
       "      <td>26484953</td>\n",
       "      <td>42</td>\n",
       "      <td>rs1978</td>\n",
       "      <td>26485552.0</td>\n",
       "      <td>4.755630e-07</td>\n",
       "      <td>9168.0</td>\n",
       "      <td>1.0</td>\n",
       "    </tr>\n",
       "    <tr>\n",
       "      <th>1414</th>\n",
       "      <td>BTN2A2</td>\n",
       "      <td>6</td>\n",
       "      <td>26491441</td>\n",
       "      <td>26503079</td>\n",
       "      <td>43</td>\n",
       "      <td>rs1978</td>\n",
       "      <td>26485552.0</td>\n",
       "      <td>4.755630e-07</td>\n",
       "      <td>5889.0</td>\n",
       "      <td>1.0</td>\n",
       "    </tr>\n",
       "  </tbody>\n",
       "</table>\n",
       "</div>"
      ],
      "text/plain": [
       "           Gene  Chr  Gene Start   Gene End  nSNPs      TopSNP   TopSNP Pos  \\\n",
       "5905   HIST1H4K    6    27906930   27907284      8  rs34706883   27913234.0   \n",
       "2009     CCDC39    3   181908070  182070660     56   rs1879248  182033908.0   \n",
       "12335   SLC17A3    6    25953306   25982450     37   rs9461219   25944906.0   \n",
       "1416     BTN3A2    6    26476384   26484953     42      rs1978   26485552.0   \n",
       "1414     BTN2A2    6    26491441   26503079     43      rs1978   26485552.0   \n",
       "\n",
       "       TopSNP P-Value  SNP Distance  Binarized Heat  \n",
       "5905     5.071180e-10        6304.0             1.0  \n",
       "2009     1.272380e-06      125838.0             1.0  \n",
       "12335    4.003060e-07        8400.0             1.0  \n",
       "1416     4.755630e-07        9168.0             1.0  \n",
       "1414     4.755630e-07        5889.0             1.0  "
      ]
     },
     "execution_count": 12,
     "metadata": {},
     "output_type": "execute_result"
    }
   ],
   "source": [
    "g.genes.convert_to_heat(method='binarize', name='Binarized Heat')\n",
    "g.genes.table.head()"
   ]
  },
  {
   "cell_type": "code",
   "execution_count": 13,
   "metadata": {},
   "outputs": [
    {
     "data": {
      "text/html": [
       "<div>\n",
       "<style scoped>\n",
       "    .dataframe tbody tr th:only-of-type {\n",
       "        vertical-align: middle;\n",
       "    }\n",
       "\n",
       "    .dataframe tbody tr th {\n",
       "        vertical-align: top;\n",
       "    }\n",
       "\n",
       "    .dataframe thead th {\n",
       "        text-align: right;\n",
       "    }\n",
       "</style>\n",
       "<table border=\"1\" class=\"dataframe\">\n",
       "  <thead>\n",
       "    <tr style=\"text-align: right;\">\n",
       "      <th></th>\n",
       "      <th>Gene</th>\n",
       "      <th>Chr</th>\n",
       "      <th>Gene Start</th>\n",
       "      <th>Gene End</th>\n",
       "      <th>nSNPs</th>\n",
       "      <th>TopSNP</th>\n",
       "      <th>TopSNP Pos</th>\n",
       "      <th>TopSNP P-Value</th>\n",
       "      <th>SNP Distance</th>\n",
       "      <th>Binarized Heat</th>\n",
       "      <th>Negative Log</th>\n",
       "    </tr>\n",
       "  </thead>\n",
       "  <tbody>\n",
       "    <tr>\n",
       "      <th>5905</th>\n",
       "      <td>HIST1H4K</td>\n",
       "      <td>6</td>\n",
       "      <td>27906930</td>\n",
       "      <td>27907284</td>\n",
       "      <td>8</td>\n",
       "      <td>rs34706883</td>\n",
       "      <td>27913234.0</td>\n",
       "      <td>5.071180e-10</td>\n",
       "      <td>6304.0</td>\n",
       "      <td>1.0</td>\n",
       "      <td>21.402277</td>\n",
       "    </tr>\n",
       "    <tr>\n",
       "      <th>5867</th>\n",
       "      <td>HIST1H2AK</td>\n",
       "      <td>6</td>\n",
       "      <td>27913636</td>\n",
       "      <td>27914096</td>\n",
       "      <td>16</td>\n",
       "      <td>rs34706883</td>\n",
       "      <td>27913234.0</td>\n",
       "      <td>5.071180e-10</td>\n",
       "      <td>402.0</td>\n",
       "      <td>1.0</td>\n",
       "      <td>21.402277</td>\n",
       "    </tr>\n",
       "    <tr>\n",
       "      <th>5883</th>\n",
       "      <td>HIST1H2BN</td>\n",
       "      <td>6</td>\n",
       "      <td>27914418</td>\n",
       "      <td>27914867</td>\n",
       "      <td>17</td>\n",
       "      <td>rs34706883</td>\n",
       "      <td>27913234.0</td>\n",
       "      <td>5.071180e-10</td>\n",
       "      <td>1184.0</td>\n",
       "      <td>1.0</td>\n",
       "      <td>21.402277</td>\n",
       "    </tr>\n",
       "    <tr>\n",
       "      <th>5893</th>\n",
       "      <td>HIST1H3I</td>\n",
       "      <td>6</td>\n",
       "      <td>27947601</td>\n",
       "      <td>27948078</td>\n",
       "      <td>10</td>\n",
       "      <td>rs13199772</td>\n",
       "      <td>27942064.0</td>\n",
       "      <td>7.053790e-10</td>\n",
       "      <td>5537.0</td>\n",
       "      <td>1.0</td>\n",
       "      <td>21.072286</td>\n",
       "    </tr>\n",
       "    <tr>\n",
       "      <th>5906</th>\n",
       "      <td>HIST1H4L</td>\n",
       "      <td>6</td>\n",
       "      <td>27948904</td>\n",
       "      <td>27949268</td>\n",
       "      <td>10</td>\n",
       "      <td>rs13199772</td>\n",
       "      <td>27942064.0</td>\n",
       "      <td>7.053790e-10</td>\n",
       "      <td>6840.0</td>\n",
       "      <td>1.0</td>\n",
       "      <td>21.072286</td>\n",
       "    </tr>\n",
       "  </tbody>\n",
       "</table>\n",
       "</div>"
      ],
      "text/plain": [
       "           Gene  Chr  Gene Start  Gene End  nSNPs      TopSNP  TopSNP Pos  \\\n",
       "5905   HIST1H4K    6    27906930  27907284      8  rs34706883  27913234.0   \n",
       "5867  HIST1H2AK    6    27913636  27914096     16  rs34706883  27913234.0   \n",
       "5883  HIST1H2BN    6    27914418  27914867     17  rs34706883  27913234.0   \n",
       "5893   HIST1H3I    6    27947601  27948078     10  rs13199772  27942064.0   \n",
       "5906   HIST1H4L    6    27948904  27949268     10  rs13199772  27942064.0   \n",
       "\n",
       "      TopSNP P-Value  SNP Distance  Binarized Heat  Negative Log  \n",
       "5905    5.071180e-10        6304.0             1.0     21.402277  \n",
       "5867    5.071180e-10         402.0             1.0     21.402277  \n",
       "5883    5.071180e-10        1184.0             1.0     21.402277  \n",
       "5893    7.053790e-10        5537.0             1.0     21.072286  \n",
       "5906    7.053790e-10        6840.0             1.0     21.072286  "
      ]
     },
     "execution_count": 13,
     "metadata": {},
     "output_type": "execute_result"
    }
   ],
   "source": [
    "g.genes.convert_to_heat(method='neg_log', name='Negative Log')\n",
    "g.genes.table.head()"
   ]
  },
  {
   "cell_type": "markdown",
   "metadata": {},
   "source": [
    "# Adding Networks"
   ]
  },
  {
   "cell_type": "markdown",
   "metadata": {},
   "source": [
    "Now that we have all the genes associated information, we can now load a network to enable a network analysis of the genes information. Like the methods associated with `Genes`, all network related methods is available in `network` attribute. There are many ways to load a network, including reading a serialized `networkx` object using `from_pickle`, pulling a network from NDex using `from_ndex`, or reading from a flat CX file using `from_cx`. If you already have a `networkx` or `igraph` graph, you can add it directly to the network using `client.network = myGraph`."
   ]
  },
  {
   "cell_type": "code",
   "execution_count": 14,
   "metadata": {},
   "outputs": [
    {
     "data": {
      "text/plain": [
       "<nbgwas.network.NxNetwork at 0x7fe011ae1e10>"
      ]
     },
     "execution_count": 14,
     "metadata": {},
     "output_type": "execute_result"
    }
   ],
   "source": [
    "g.network.from_ndex('f93f402c-86d4-11e7-a10d-0ac135e8bacf') #PCNet"
   ]
  },
  {
   "cell_type": "markdown",
   "metadata": {},
   "source": [
    "You can access node attributes using the `node_table`. Right now, it only contains the name for each gene. This table will contain the results of the network propagation later. "
   ]
  },
  {
   "cell_type": "code",
   "execution_count": 15,
   "metadata": {},
   "outputs": [
    {
     "data": {
      "text/html": [
       "<div>\n",
       "<style scoped>\n",
       "    .dataframe tbody tr th:only-of-type {\n",
       "        vertical-align: middle;\n",
       "    }\n",
       "\n",
       "    .dataframe tbody tr th {\n",
       "        vertical-align: top;\n",
       "    }\n",
       "\n",
       "    .dataframe thead th {\n",
       "        text-align: right;\n",
       "    }\n",
       "</style>\n",
       "<table border=\"1\" class=\"dataframe\">\n",
       "  <thead>\n",
       "    <tr style=\"text-align: right;\">\n",
       "      <th></th>\n",
       "      <th>name</th>\n",
       "    </tr>\n",
       "  </thead>\n",
       "  <tbody>\n",
       "    <tr>\n",
       "      <th>0</th>\n",
       "      <td>UBE2Q1</td>\n",
       "    </tr>\n",
       "    <tr>\n",
       "      <th>1</th>\n",
       "      <td>RNF14</td>\n",
       "    </tr>\n",
       "    <tr>\n",
       "      <th>2</th>\n",
       "      <td>UBE2Q2</td>\n",
       "    </tr>\n",
       "    <tr>\n",
       "      <th>3</th>\n",
       "      <td>RNF10</td>\n",
       "    </tr>\n",
       "    <tr>\n",
       "      <th>4</th>\n",
       "      <td>RNF11</td>\n",
       "    </tr>\n",
       "  </tbody>\n",
       "</table>\n",
       "</div>"
      ],
      "text/plain": [
       "     name\n",
       "0  UBE2Q1\n",
       "1   RNF14\n",
       "2  UBE2Q2\n",
       "3   RNF10\n",
       "4   RNF11"
      ]
     },
     "execution_count": 15,
     "metadata": {},
     "output_type": "execute_result"
    }
   ],
   "source": [
    "g.network.node_table.head()"
   ]
  },
  {
   "cell_type": "markdown",
   "metadata": {},
   "source": [
    "In order to move data from the `Genes` table to the `Network`'s `node_table`, you can use `map_to_node_table` method where you can specify the specific columns to map onto the network's node attributes. "
   ]
  },
  {
   "cell_type": "code",
   "execution_count": 16,
   "metadata": {},
   "outputs": [
    {
     "data": {
      "text/html": [
       "<div>\n",
       "<style scoped>\n",
       "    .dataframe tbody tr th:only-of-type {\n",
       "        vertical-align: middle;\n",
       "    }\n",
       "\n",
       "    .dataframe tbody tr th {\n",
       "        vertical-align: top;\n",
       "    }\n",
       "\n",
       "    .dataframe thead th {\n",
       "        text-align: right;\n",
       "    }\n",
       "</style>\n",
       "<table border=\"1\" class=\"dataframe\">\n",
       "  <thead>\n",
       "    <tr style=\"text-align: right;\">\n",
       "      <th></th>\n",
       "      <th>name</th>\n",
       "      <th>Binarized Heat</th>\n",
       "      <th>Negative Log</th>\n",
       "    </tr>\n",
       "  </thead>\n",
       "  <tbody>\n",
       "    <tr>\n",
       "      <th>0</th>\n",
       "      <td>UBE2Q1</td>\n",
       "      <td>0.0</td>\n",
       "      <td>3.049072</td>\n",
       "    </tr>\n",
       "    <tr>\n",
       "      <th>1</th>\n",
       "      <td>RNF14</td>\n",
       "      <td>0.0</td>\n",
       "      <td>3.184936</td>\n",
       "    </tr>\n",
       "    <tr>\n",
       "      <th>2</th>\n",
       "      <td>UBE2Q2</td>\n",
       "      <td>0.0</td>\n",
       "      <td>1.235095</td>\n",
       "    </tr>\n",
       "    <tr>\n",
       "      <th>3</th>\n",
       "      <td>RNF10</td>\n",
       "      <td>0.0</td>\n",
       "      <td>2.250201</td>\n",
       "    </tr>\n",
       "    <tr>\n",
       "      <th>4</th>\n",
       "      <td>RNF11</td>\n",
       "      <td>0.0</td>\n",
       "      <td>1.908012</td>\n",
       "    </tr>\n",
       "  </tbody>\n",
       "</table>\n",
       "</div>"
      ],
      "text/plain": [
       "     name  Binarized Heat  Negative Log\n",
       "0  UBE2Q1             0.0      3.049072\n",
       "1   RNF14             0.0      3.184936\n",
       "2  UBE2Q2             0.0      1.235095\n",
       "3   RNF10             0.0      2.250201\n",
       "4   RNF11             0.0      1.908012"
      ]
     },
     "execution_count": 16,
     "metadata": {},
     "output_type": "execute_result"
    }
   ],
   "source": [
    "g.map_to_node_table(columns=['Binarized Heat', 'Negative Log'])\n",
    "g.network.node_table.head()"
   ]
  },
  {
   "cell_type": "markdown",
   "metadata": {},
   "source": [
    "# Network Propagation"
   ]
  },
  {
   "cell_type": "markdown",
   "metadata": {},
   "source": [
    "From there, the information is available for network propagation. "
   ]
  },
  {
   "cell_type": "code",
   "execution_count": 17,
   "metadata": {},
   "outputs": [
    {
     "name": "stderr",
     "output_type": "stream",
     "text": [
      "/cellar/users/samsonfong/Ongoing/nbgwas_package/nbgwas/propagation.py:57: UserWarning: Forcing F0 to be sparse\n",
      "  warnings.warn(\"Forcing F0 to be sparse\")\n"
     ]
    },
    {
     "data": {
      "text/html": [
       "<div>\n",
       "<style scoped>\n",
       "    .dataframe tbody tr th:only-of-type {\n",
       "        vertical-align: middle;\n",
       "    }\n",
       "\n",
       "    .dataframe tbody tr th {\n",
       "        vertical-align: top;\n",
       "    }\n",
       "\n",
       "    .dataframe thead th {\n",
       "        text-align: right;\n",
       "    }\n",
       "</style>\n",
       "<table border=\"1\" class=\"dataframe\">\n",
       "  <thead>\n",
       "    <tr style=\"text-align: right;\">\n",
       "      <th></th>\n",
       "      <th>name</th>\n",
       "      <th>Binarized Heat</th>\n",
       "      <th>Negative Log</th>\n",
       "      <th>Diffused (Binarized)</th>\n",
       "    </tr>\n",
       "  </thead>\n",
       "  <tbody>\n",
       "    <tr>\n",
       "      <th>15215</th>\n",
       "      <td>TCF4</td>\n",
       "      <td>1.0</td>\n",
       "      <td>14.399194</td>\n",
       "      <td>0.479835</td>\n",
       "    </tr>\n",
       "    <tr>\n",
       "      <th>14802</th>\n",
       "      <td>HIST1H4C</td>\n",
       "      <td>1.0</td>\n",
       "      <td>14.533063</td>\n",
       "      <td>0.467925</td>\n",
       "    </tr>\n",
       "    <tr>\n",
       "      <th>7301</th>\n",
       "      <td>HIST1H2BC</td>\n",
       "      <td>1.0</td>\n",
       "      <td>14.820414</td>\n",
       "      <td>0.467749</td>\n",
       "    </tr>\n",
       "    <tr>\n",
       "      <th>7304</th>\n",
       "      <td>HIST1H2BN</td>\n",
       "      <td>1.0</td>\n",
       "      <td>21.402277</td>\n",
       "      <td>0.466517</td>\n",
       "    </tr>\n",
       "    <tr>\n",
       "      <th>14811</th>\n",
       "      <td>HIST1H4J</td>\n",
       "      <td>1.0</td>\n",
       "      <td>14.887917</td>\n",
       "      <td>0.466316</td>\n",
       "    </tr>\n",
       "  </tbody>\n",
       "</table>\n",
       "</div>"
      ],
      "text/plain": [
       "            name  Binarized Heat  Negative Log  Diffused (Binarized)\n",
       "15215       TCF4             1.0     14.399194              0.479835\n",
       "14802   HIST1H4C             1.0     14.533063              0.467925\n",
       "7301   HIST1H2BC             1.0     14.820414              0.467749\n",
       "7304   HIST1H2BN             1.0     21.402277              0.466517\n",
       "14811   HIST1H4J             1.0     14.887917              0.466316"
      ]
     },
     "execution_count": 17,
     "metadata": {},
     "output_type": "execute_result"
    }
   ],
   "source": [
    "g.diffuse(method='random_walk', node_attribute='Binarized Heat', result_name='Diffused (Binarized)')\n",
    "g.network.node_table.head()"
   ]
  },
  {
   "cell_type": "code",
   "execution_count": 18,
   "metadata": {},
   "outputs": [
    {
     "name": "stderr",
     "output_type": "stream",
     "text": [
      "/cellar/users/samsonfong/Ongoing/nbgwas_package/nbgwas/propagation.py:57: UserWarning: Forcing F0 to be sparse\n",
      "  warnings.warn(\"Forcing F0 to be sparse\")\n"
     ]
    },
    {
     "data": {
      "text/html": [
       "<div>\n",
       "<style scoped>\n",
       "    .dataframe tbody tr th:only-of-type {\n",
       "        vertical-align: middle;\n",
       "    }\n",
       "\n",
       "    .dataframe tbody tr th {\n",
       "        vertical-align: top;\n",
       "    }\n",
       "\n",
       "    .dataframe thead th {\n",
       "        text-align: right;\n",
       "    }\n",
       "</style>\n",
       "<table border=\"1\" class=\"dataframe\">\n",
       "  <thead>\n",
       "    <tr style=\"text-align: right;\">\n",
       "      <th></th>\n",
       "      <th>name</th>\n",
       "      <th>Binarized Heat</th>\n",
       "      <th>Negative Log</th>\n",
       "      <th>Diffused (Binarized)</th>\n",
       "      <th>Diffused (Log)</th>\n",
       "    </tr>\n",
       "  </thead>\n",
       "  <tbody>\n",
       "    <tr>\n",
       "      <th>8466</th>\n",
       "      <td>UBC</td>\n",
       "      <td>0.0</td>\n",
       "      <td>1.730928</td>\n",
       "      <td>0.078809</td>\n",
       "      <td>90.492111</td>\n",
       "    </tr>\n",
       "    <tr>\n",
       "      <th>341</th>\n",
       "      <td>APP</td>\n",
       "      <td>0.0</td>\n",
       "      <td>11.557914</td>\n",
       "      <td>0.017122</td>\n",
       "      <td>33.418802</td>\n",
       "    </tr>\n",
       "    <tr>\n",
       "      <th>1079</th>\n",
       "      <td>HNF4A</td>\n",
       "      <td>0.0</td>\n",
       "      <td>1.239945</td>\n",
       "      <td>0.025469</td>\n",
       "      <td>23.489276</td>\n",
       "    </tr>\n",
       "    <tr>\n",
       "      <th>4787</th>\n",
       "      <td>TAF1</td>\n",
       "      <td>0.0</td>\n",
       "      <td>0.000000</td>\n",
       "      <td>0.035881</td>\n",
       "      <td>23.222991</td>\n",
       "    </tr>\n",
       "    <tr>\n",
       "      <th>1149</th>\n",
       "      <td>PRKACB</td>\n",
       "      <td>0.0</td>\n",
       "      <td>2.404228</td>\n",
       "      <td>0.007903</td>\n",
       "      <td>23.139555</td>\n",
       "    </tr>\n",
       "  </tbody>\n",
       "</table>\n",
       "</div>"
      ],
      "text/plain": [
       "        name  Binarized Heat  Negative Log  Diffused (Binarized)  \\\n",
       "8466     UBC             0.0      1.730928              0.078809   \n",
       "341      APP             0.0     11.557914              0.017122   \n",
       "1079   HNF4A             0.0      1.239945              0.025469   \n",
       "4787    TAF1             0.0      0.000000              0.035881   \n",
       "1149  PRKACB             0.0      2.404228              0.007903   \n",
       "\n",
       "      Diffused (Log)  \n",
       "8466       90.492111  \n",
       "341        33.418802  \n",
       "1079       23.489276  \n",
       "4787       23.222991  \n",
       "1149       23.139555  "
      ]
     },
     "execution_count": 18,
     "metadata": {},
     "output_type": "execute_result"
    }
   ],
   "source": [
    "g.diffuse(method='random_walk', node_attribute='Negative Log', result_name='Diffused (Log)')\n",
    "g.network.node_table.head()"
   ]
  },
  {
   "cell_type": "code",
   "execution_count": null,
   "metadata": {},
   "outputs": [],
   "source": [
    "g.diffuse(method='heat_diffusion', node_attribute='Negative Log', result_name='Diffused (Heat, Log)')\n",
    "g.network.node_table.head()"
   ]
  },
  {
   "cell_type": "code",
   "execution_count": null,
   "metadata": {},
   "outputs": [],
   "source": [
    "g.diffuse(method='heat_diffusion', node_attribute='Binarized Heat', result_name='Diffused (Heat, Binarize)')\n",
    "g.network.node_table.head()"
   ]
  },
  {
   "cell_type": "markdown",
   "metadata": {},
   "source": [
    "To sync the information from the node table to node attributes, use the `refresh_node_attributes` method."
   ]
  },
  {
   "cell_type": "code",
   "execution_count": null,
   "metadata": {},
   "outputs": [],
   "source": [
    "g.network.refresh_node_attributes()"
   ]
  },
  {
   "cell_type": "markdown",
   "metadata": {},
   "source": [
    "# Viewing and Interacting with Networks"
   ]
  },
  {
   "cell_type": "code",
   "execution_count": 46,
   "metadata": {},
   "outputs": [
    {
     "name": "stderr",
     "output_type": "stream",
     "text": [
      "/cellar/users/samsonfong/Ongoing/nbgwas_package/nbgwas/network.py:457: UserWarning: The specified graph does not have the attribute Diffused (Binarize). Replacing values with 0.\n",
      "  \"The specified graph does not have the attribute %s. Replacing values with 0.\" % attributes\n",
      "/cellar/users/samsonfong/bin/anaconda3/envs/nbgwas2/lib/python3.6/site-packages/networkx/drawing/nx_pylab.py:126: MatplotlibDeprecationWarning: pyplot.hold is deprecated.\n",
      "    Future behavior will be consistent with the long-time default:\n",
      "    plot commands add elements without first clearing the\n",
      "    Axes and/or Figure.\n",
      "  b = plt.ishold()\n",
      "/cellar/users/samsonfong/bin/anaconda3/envs/nbgwas2/lib/python3.6/site-packages/networkx/drawing/nx_pylab.py:522: MatplotlibDeprecationWarning: The is_string_like function was deprecated in version 2.1.\n",
      "  if not cb.is_string_like(edge_color) \\\n",
      "/cellar/users/samsonfong/bin/anaconda3/envs/nbgwas2/lib/python3.6/site-packages/networkx/drawing/nx_pylab.py:543: MatplotlibDeprecationWarning: The is_string_like function was deprecated in version 2.1.\n",
      "  if cb.is_string_like(edge_color) or len(edge_color) == 1:\n",
      "/cellar/users/samsonfong/bin/anaconda3/envs/nbgwas2/lib/python3.6/site-packages/networkx/drawing/nx_pylab.py:724: MatplotlibDeprecationWarning: The is_string_like function was deprecated in version 2.1.\n",
      "  if not cb.is_string_like(label):\n",
      "/cellar/users/samsonfong/bin/anaconda3/envs/nbgwas2/lib/python3.6/site-packages/networkx/drawing/nx_pylab.py:138: MatplotlibDeprecationWarning: pyplot.hold is deprecated.\n",
      "    Future behavior will be consistent with the long-time default:\n",
      "    plot commands add elements without first clearing the\n",
      "    Axes and/or Figure.\n",
      "  plt.hold(b)\n",
      "/cellar/users/samsonfong/bin/anaconda3/envs/nbgwas2/lib/python3.6/site-packages/matplotlib-2.2.3-py3.6-linux-x86_64.egg/matplotlib/__init__.py:910: MatplotlibDeprecationWarning: axes.hold is deprecated. Please remove it from your matplotlibrc and/or style files.\n",
      "  mplDeprecation)\n",
      "/cellar/users/samsonfong/bin/anaconda3/envs/nbgwas2/lib/python3.6/site-packages/matplotlib-2.2.3-py3.6-linux-x86_64.egg/matplotlib/rcsetup.py:156: MatplotlibDeprecationWarning: axes.hold is deprecated, will be removed in 3.0\n",
      "  mplDeprecation)\n"
     ]
    },
    {
     "data": {
      "text/plain": [
       "(<Figure size 432x288 with 2 Axes>,\n",
       " <matplotlib.axes._subplots.AxesSubplot at 0x7f54704020b8>)"
      ]
     },
     "execution_count": 46,
     "metadata": {},
     "output_type": "execute_result"
    },
    {
     "data": {
      "image/png": "[encoded data removed]",
      "text/plain": [
       "<Figure size 432x288 with 2 Axes>"
      ]
     },
     "metadata": {},
     "output_type": "display_data"
    }
   ],
   "source": [
    "g.network.local_neighborhood(center_name='PGBD1', neighbors=1).view(attributes='Diffused (Binarize)', vmin=0, vmax=1)"
   ]
  },
  {
   "cell_type": "markdown",
   "metadata": {},
   "source": [
    "`Nbgwas` also supports viewing and interacting with networks in Cytoscape. To do so, make sure Cytoscape is opened in the background (and make sure you have a version that supports CyRest). We have tested versions 3.6 and 3.7. "
   ]
  },
  {
   "cell_type": "code",
   "execution_count": 47,
   "metadata": {},
   "outputs": [
    {
     "ename": "ConnectionError",
     "evalue": "HTTPConnectionPool(host='localhost', port=1234): Max retries exceeded with url: /v1/styles/visualproperties (Caused by NewConnectionError('<urllib3.connection.HTTPConnection object at 0x7f54700a79b0>: Failed to establish a new connection: [Errno 111] Connection refused',))",
     "output_type": "error",
     "traceback": [
      "\u001b[0;31m---------------------------------------------------------------------------\u001b[0m",
      "\u001b[0;31mConnectionRefusedError\u001b[0m                    Traceback (most recent call last)",
      "\u001b[0;32m~/bin/anaconda3/envs/nbgwas2/lib/python3.6/site-packages/urllib3/connection.py\u001b[0m in \u001b[0;36m_new_conn\u001b[0;34m(self)\u001b[0m\n\u001b[1;32m    170\u001b[0m             conn = connection.create_connection(\n\u001b[0;32m--> 171\u001b[0;31m                 (self._dns_host, self.port), self.timeout, **extra_kw)\n\u001b[0m\u001b[1;32m    172\u001b[0m \u001b[0;34m\u001b[0m\u001b[0m\n",
      "\u001b[0;32m~/bin/anaconda3/envs/nbgwas2/lib/python3.6/site-packages/urllib3/util/connection.py\u001b[0m in \u001b[0;36mcreate_connection\u001b[0;34m(address, timeout, source_address, socket_options)\u001b[0m\n\u001b[1;32m     78\u001b[0m     \u001b[0;32mif\u001b[0m \u001b[0merr\u001b[0m \u001b[0;32mis\u001b[0m \u001b[0;32mnot\u001b[0m \u001b[0;32mNone\u001b[0m\u001b[0;34m:\u001b[0m\u001b[0;34m\u001b[0m\u001b[0m\n\u001b[0;32m---> 79\u001b[0;31m         \u001b[0;32mraise\u001b[0m \u001b[0merr\u001b[0m\u001b[0;34m\u001b[0m\u001b[0m\n\u001b[0m\u001b[1;32m     80\u001b[0m \u001b[0;34m\u001b[0m\u001b[0m\n",
      "\u001b[0;32m~/bin/anaconda3/envs/nbgwas2/lib/python3.6/site-packages/urllib3/util/connection.py\u001b[0m in \u001b[0;36mcreate_connection\u001b[0;34m(address, timeout, source_address, socket_options)\u001b[0m\n\u001b[1;32m     68\u001b[0m                 \u001b[0msock\u001b[0m\u001b[0;34m.\u001b[0m\u001b[0mbind\u001b[0m\u001b[0;34m(\u001b[0m\u001b[0msource_address\u001b[0m\u001b[0;34m)\u001b[0m\u001b[0;34m\u001b[0m\u001b[0m\n\u001b[0;32m---> 69\u001b[0;31m             \u001b[0msock\u001b[0m\u001b[0;34m.\u001b[0m\u001b[0mconnect\u001b[0m\u001b[0;34m(\u001b[0m\u001b[0msa\u001b[0m\u001b[0;34m)\u001b[0m\u001b[0;34m\u001b[0m\u001b[0m\n\u001b[0m\u001b[1;32m     70\u001b[0m             \u001b[0;32mreturn\u001b[0m \u001b[0msock\u001b[0m\u001b[0;34m\u001b[0m\u001b[0m\n",
      "\u001b[0;31mConnectionRefusedError\u001b[0m: [Errno 111] Connection refused",
      "\nDuring handling of the above exception, another exception occurred:\n",
      "\u001b[0;31mNewConnectionError\u001b[0m                        Traceback (most recent call last)",
      "\u001b[0;32m~/bin/anaconda3/envs/nbgwas2/lib/python3.6/site-packages/urllib3/connectionpool.py\u001b[0m in \u001b[0;36murlopen\u001b[0;34m(self, method, url, body, headers, retries, redirect, assert_same_host, timeout, pool_timeout, release_conn, chunked, body_pos, **response_kw)\u001b[0m\n\u001b[1;32m    599\u001b[0m                                                   \u001b[0mbody\u001b[0m\u001b[0;34m=\u001b[0m\u001b[0mbody\u001b[0m\u001b[0;34m,\u001b[0m \u001b[0mheaders\u001b[0m\u001b[0;34m=\u001b[0m\u001b[0mheaders\u001b[0m\u001b[0;34m,\u001b[0m\u001b[0;34m\u001b[0m\u001b[0m\n\u001b[0;32m--> 600\u001b[0;31m                                                   chunked=chunked)\n\u001b[0m\u001b[1;32m    601\u001b[0m \u001b[0;34m\u001b[0m\u001b[0m\n",
      "\u001b[0;32m~/bin/anaconda3/envs/nbgwas2/lib/python3.6/site-packages/urllib3/connectionpool.py\u001b[0m in \u001b[0;36m_make_request\u001b[0;34m(self, conn, method, url, timeout, chunked, **httplib_request_kw)\u001b[0m\n\u001b[1;32m    353\u001b[0m         \u001b[0;32melse\u001b[0m\u001b[0;34m:\u001b[0m\u001b[0;34m\u001b[0m\u001b[0m\n\u001b[0;32m--> 354\u001b[0;31m             \u001b[0mconn\u001b[0m\u001b[0;34m.\u001b[0m\u001b[0mrequest\u001b[0m\u001b[0;34m(\u001b[0m\u001b[0mmethod\u001b[0m\u001b[0;34m,\u001b[0m \u001b[0murl\u001b[0m\u001b[0;34m,\u001b[0m \u001b[0;34m**\u001b[0m\u001b[0mhttplib_request_kw\u001b[0m\u001b[0;34m)\u001b[0m\u001b[0;34m\u001b[0m\u001b[0m\n\u001b[0m\u001b[1;32m    355\u001b[0m \u001b[0;34m\u001b[0m\u001b[0m\n",
      "\u001b[0;32m~/bin/anaconda3/envs/nbgwas2/lib/python3.6/http/client.py\u001b[0m in \u001b[0;36mrequest\u001b[0;34m(self, method, url, body, headers, encode_chunked)\u001b[0m\n\u001b[1;32m   1238\u001b[0m         \u001b[0;34m\"\"\"Send a complete request to the server.\"\"\"\u001b[0m\u001b[0;34m\u001b[0m\u001b[0m\n\u001b[0;32m-> 1239\u001b[0;31m         \u001b[0mself\u001b[0m\u001b[0;34m.\u001b[0m\u001b[0m_send_request\u001b[0m\u001b[0;34m(\u001b[0m\u001b[0mmethod\u001b[0m\u001b[0;34m,\u001b[0m \u001b[0murl\u001b[0m\u001b[0;34m,\u001b[0m \u001b[0mbody\u001b[0m\u001b[0;34m,\u001b[0m \u001b[0mheaders\u001b[0m\u001b[0;34m,\u001b[0m \u001b[0mencode_chunked\u001b[0m\u001b[0;34m)\u001b[0m\u001b[0;34m\u001b[0m\u001b[0m\n\u001b[0m\u001b[1;32m   1240\u001b[0m \u001b[0;34m\u001b[0m\u001b[0m\n",
      "\u001b[0;32m~/bin/anaconda3/envs/nbgwas2/lib/python3.6/http/client.py\u001b[0m in \u001b[0;36m_send_request\u001b[0;34m(self, method, url, body, headers, encode_chunked)\u001b[0m\n\u001b[1;32m   1284\u001b[0m             \u001b[0mbody\u001b[0m \u001b[0;34m=\u001b[0m \u001b[0m_encode\u001b[0m\u001b[0;34m(\u001b[0m\u001b[0mbody\u001b[0m\u001b[0;34m,\u001b[0m \u001b[0;34m'body'\u001b[0m\u001b[0;34m)\u001b[0m\u001b[0;34m\u001b[0m\u001b[0m\n\u001b[0;32m-> 1285\u001b[0;31m         \u001b[0mself\u001b[0m\u001b[0;34m.\u001b[0m\u001b[0mendheaders\u001b[0m\u001b[0;34m(\u001b[0m\u001b[0mbody\u001b[0m\u001b[0;34m,\u001b[0m \u001b[0mencode_chunked\u001b[0m\u001b[0;34m=\u001b[0m\u001b[0mencode_chunked\u001b[0m\u001b[0;34m)\u001b[0m\u001b[0;34m\u001b[0m\u001b[0m\n\u001b[0m\u001b[1;32m   1286\u001b[0m \u001b[0;34m\u001b[0m\u001b[0m\n",
      "\u001b[0;32m~/bin/anaconda3/envs/nbgwas2/lib/python3.6/http/client.py\u001b[0m in \u001b[0;36mendheaders\u001b[0;34m(self, message_body, encode_chunked)\u001b[0m\n\u001b[1;32m   1233\u001b[0m             \u001b[0;32mraise\u001b[0m \u001b[0mCannotSendHeader\u001b[0m\u001b[0;34m(\u001b[0m\u001b[0;34m)\u001b[0m\u001b[0;34m\u001b[0m\u001b[0m\n\u001b[0;32m-> 1234\u001b[0;31m         \u001b[0mself\u001b[0m\u001b[0;34m.\u001b[0m\u001b[0m_send_output\u001b[0m\u001b[0;34m(\u001b[0m\u001b[0mmessage_body\u001b[0m\u001b[0;34m,\u001b[0m \u001b[0mencode_chunked\u001b[0m\u001b[0;34m=\u001b[0m\u001b[0mencode_chunked\u001b[0m\u001b[0;34m)\u001b[0m\u001b[0;34m\u001b[0m\u001b[0m\n\u001b[0m\u001b[1;32m   1235\u001b[0m \u001b[0;34m\u001b[0m\u001b[0m\n",
      "\u001b[0;32m~/bin/anaconda3/envs/nbgwas2/lib/python3.6/http/client.py\u001b[0m in \u001b[0;36m_send_output\u001b[0;34m(self, message_body, encode_chunked)\u001b[0m\n\u001b[1;32m   1025\u001b[0m         \u001b[0;32mdel\u001b[0m \u001b[0mself\u001b[0m\u001b[0;34m.\u001b[0m\u001b[0m_buffer\u001b[0m\u001b[0;34m[\u001b[0m\u001b[0;34m:\u001b[0m\u001b[0;34m]\u001b[0m\u001b[0;34m\u001b[0m\u001b[0m\n\u001b[0;32m-> 1026\u001b[0;31m         \u001b[0mself\u001b[0m\u001b[0;34m.\u001b[0m\u001b[0msend\u001b[0m\u001b[0;34m(\u001b[0m\u001b[0mmsg\u001b[0m\u001b[0;34m)\u001b[0m\u001b[0;34m\u001b[0m\u001b[0m\n\u001b[0m\u001b[1;32m   1027\u001b[0m \u001b[0;34m\u001b[0m\u001b[0m\n",
      "\u001b[0;32m~/bin/anaconda3/envs/nbgwas2/lib/python3.6/http/client.py\u001b[0m in \u001b[0;36msend\u001b[0;34m(self, data)\u001b[0m\n\u001b[1;32m    963\u001b[0m             \u001b[0;32mif\u001b[0m \u001b[0mself\u001b[0m\u001b[0;34m.\u001b[0m\u001b[0mauto_open\u001b[0m\u001b[0;34m:\u001b[0m\u001b[0;34m\u001b[0m\u001b[0m\n\u001b[0;32m--> 964\u001b[0;31m                 \u001b[0mself\u001b[0m\u001b[0;34m.\u001b[0m\u001b[0mconnect\u001b[0m\u001b[0;34m(\u001b[0m\u001b[0;34m)\u001b[0m\u001b[0;34m\u001b[0m\u001b[0m\n\u001b[0m\u001b[1;32m    965\u001b[0m             \u001b[0;32melse\u001b[0m\u001b[0;34m:\u001b[0m\u001b[0;34m\u001b[0m\u001b[0m\n",
      "\u001b[0;32m~/bin/anaconda3/envs/nbgwas2/lib/python3.6/site-packages/urllib3/connection.py\u001b[0m in \u001b[0;36mconnect\u001b[0;34m(self)\u001b[0m\n\u001b[1;32m    195\u001b[0m     \u001b[0;32mdef\u001b[0m \u001b[0mconnect\u001b[0m\u001b[0;34m(\u001b[0m\u001b[0mself\u001b[0m\u001b[0;34m)\u001b[0m\u001b[0;34m:\u001b[0m\u001b[0;34m\u001b[0m\u001b[0m\n\u001b[0;32m--> 196\u001b[0;31m         \u001b[0mconn\u001b[0m \u001b[0;34m=\u001b[0m \u001b[0mself\u001b[0m\u001b[0;34m.\u001b[0m\u001b[0m_new_conn\u001b[0m\u001b[0;34m(\u001b[0m\u001b[0;34m)\u001b[0m\u001b[0;34m\u001b[0m\u001b[0m\n\u001b[0m\u001b[1;32m    197\u001b[0m         \u001b[0mself\u001b[0m\u001b[0;34m.\u001b[0m\u001b[0m_prepare_conn\u001b[0m\u001b[0;34m(\u001b[0m\u001b[0mconn\u001b[0m\u001b[0;34m)\u001b[0m\u001b[0;34m\u001b[0m\u001b[0m\n",
      "\u001b[0;32m~/bin/anaconda3/envs/nbgwas2/lib/python3.6/site-packages/urllib3/connection.py\u001b[0m in \u001b[0;36m_new_conn\u001b[0;34m(self)\u001b[0m\n\u001b[1;32m    179\u001b[0m             raise NewConnectionError(\n\u001b[0;32m--> 180\u001b[0;31m                 self, \"Failed to establish a new connection: %s\" % e)\n\u001b[0m\u001b[1;32m    181\u001b[0m \u001b[0;34m\u001b[0m\u001b[0m\n",
      "\u001b[0;31mNewConnectionError\u001b[0m: <urllib3.connection.HTTPConnection object at 0x7f54700a79b0>: Failed to establish a new connection: [Errno 111] Connection refused",
      "\nDuring handling of the above exception, another exception occurred:\n",
      "\u001b[0;31mMaxRetryError\u001b[0m                             Traceback (most recent call last)",
      "\u001b[0;32m~/bin/anaconda3/envs/nbgwas2/lib/python3.6/site-packages/requests/adapters.py\u001b[0m in \u001b[0;36msend\u001b[0;34m(self, request, stream, timeout, verify, cert, proxies)\u001b[0m\n\u001b[1;32m    444\u001b[0m                     \u001b[0mretries\u001b[0m\u001b[0;34m=\u001b[0m\u001b[0mself\u001b[0m\u001b[0;34m.\u001b[0m\u001b[0mmax_retries\u001b[0m\u001b[0;34m,\u001b[0m\u001b[0;34m\u001b[0m\u001b[0m\n\u001b[0;32m--> 445\u001b[0;31m                     \u001b[0mtimeout\u001b[0m\u001b[0;34m=\u001b[0m\u001b[0mtimeout\u001b[0m\u001b[0;34m\u001b[0m\u001b[0m\n\u001b[0m\u001b[1;32m    446\u001b[0m                 )\n",
      "\u001b[0;32m~/bin/anaconda3/envs/nbgwas2/lib/python3.6/site-packages/urllib3/connectionpool.py\u001b[0m in \u001b[0;36murlopen\u001b[0;34m(self, method, url, body, headers, retries, redirect, assert_same_host, timeout, pool_timeout, release_conn, chunked, body_pos, **response_kw)\u001b[0m\n\u001b[1;32m    637\u001b[0m             retries = retries.increment(method, url, error=e, _pool=self,\n\u001b[0;32m--> 638\u001b[0;31m                                         _stacktrace=sys.exc_info()[2])\n\u001b[0m\u001b[1;32m    639\u001b[0m             \u001b[0mretries\u001b[0m\u001b[0;34m.\u001b[0m\u001b[0msleep\u001b[0m\u001b[0;34m(\u001b[0m\u001b[0;34m)\u001b[0m\u001b[0;34m\u001b[0m\u001b[0m\n",
      "\u001b[0;32m~/bin/anaconda3/envs/nbgwas2/lib/python3.6/site-packages/urllib3/util/retry.py\u001b[0m in \u001b[0;36mincrement\u001b[0;34m(self, method, url, response, error, _pool, _stacktrace)\u001b[0m\n\u001b[1;32m    397\u001b[0m         \u001b[0;32mif\u001b[0m \u001b[0mnew_retry\u001b[0m\u001b[0;34m.\u001b[0m\u001b[0mis_exhausted\u001b[0m\u001b[0;34m(\u001b[0m\u001b[0;34m)\u001b[0m\u001b[0;34m:\u001b[0m\u001b[0;34m\u001b[0m\u001b[0m\n\u001b[0;32m--> 398\u001b[0;31m             \u001b[0;32mraise\u001b[0m \u001b[0mMaxRetryError\u001b[0m\u001b[0;34m(\u001b[0m\u001b[0m_pool\u001b[0m\u001b[0;34m,\u001b[0m \u001b[0murl\u001b[0m\u001b[0;34m,\u001b[0m \u001b[0merror\u001b[0m \u001b[0;32mor\u001b[0m \u001b[0mResponseError\u001b[0m\u001b[0;34m(\u001b[0m\u001b[0mcause\u001b[0m\u001b[0;34m)\u001b[0m\u001b[0;34m)\u001b[0m\u001b[0;34m\u001b[0m\u001b[0m\n\u001b[0m\u001b[1;32m    399\u001b[0m \u001b[0;34m\u001b[0m\u001b[0m\n",
      "\u001b[0;31mMaxRetryError\u001b[0m: HTTPConnectionPool(host='localhost', port=1234): Max retries exceeded with url: /v1/styles/visualproperties (Caused by NewConnectionError('<urllib3.connection.HTTPConnection object at 0x7f54700a79b0>: Failed to establish a new connection: [Errno 111] Connection refused',))",
      "\nDuring handling of the above exception, another exception occurred:\n",
      "\u001b[0;31mConnectionError\u001b[0m                           Traceback (most recent call last)",
      "\u001b[0;32m<ipython-input-47-d2c7ab7029b5>\u001b[0m in \u001b[0;36m<module>\u001b[0;34m()\u001b[0m\n\u001b[0;32m----> 1\u001b[0;31m \u001b[0mg\u001b[0m\u001b[0;34m.\u001b[0m\u001b[0mnetwork\u001b[0m\u001b[0;34m.\u001b[0m\u001b[0mlocal_neighborhood\u001b[0m\u001b[0;34m(\u001b[0m\u001b[0mcenter_name\u001b[0m\u001b[0;34m=\u001b[0m\u001b[0;34m'PGBD1'\u001b[0m\u001b[0;34m,\u001b[0m \u001b[0mneighbors\u001b[0m\u001b[0;34m=\u001b[0m\u001b[0;36m1\u001b[0m\u001b[0;34m)\u001b[0m\u001b[0;34m.\u001b[0m\u001b[0mview_in_cytoscape\u001b[0m\u001b[0;34m(\u001b[0m\u001b[0;34m)\u001b[0m\u001b[0;34m\u001b[0m\u001b[0m\n\u001b[0m",
      "\u001b[0;32m~/Ongoing/nbgwas_package/nbgwas/network.py\u001b[0m in \u001b[0;36mview_in_cytoscape\u001b[0;34m(self)\u001b[0m\n\u001b[1;32m    483\u001b[0m \u001b[0;34m\u001b[0m\u001b[0m\n\u001b[1;32m    484\u001b[0m         \u001b[0;32mif\u001b[0m \u001b[0;32mnot\u001b[0m \u001b[0mhasattr\u001b[0m\u001b[0;34m(\u001b[0m\u001b[0mself\u001b[0m\u001b[0;34m,\u001b[0m \u001b[0;34m\"cyrest\"\u001b[0m\u001b[0;34m)\u001b[0m\u001b[0;34m:\u001b[0m\u001b[0;34m\u001b[0m\u001b[0m\n\u001b[0;32m--> 485\u001b[0;31m             \u001b[0mself\u001b[0m\u001b[0;34m.\u001b[0m\u001b[0mcyrest\u001b[0m \u001b[0;34m=\u001b[0m \u001b[0mCyRestClient\u001b[0m\u001b[0;34m(\u001b[0m\u001b[0;34m)\u001b[0m\u001b[0;34m\u001b[0m\u001b[0m\n\u001b[0m\u001b[1;32m    486\u001b[0m \u001b[0;34m\u001b[0m\u001b[0m\n\u001b[1;32m    487\u001b[0m         \u001b[0mhdl\u001b[0m \u001b[0;34m=\u001b[0m \u001b[0mself\u001b[0m\u001b[0;34m.\u001b[0m\u001b[0mcyrest\u001b[0m\u001b[0;34m.\u001b[0m\u001b[0mnetwork\u001b[0m\u001b[0;34m.\u001b[0m\u001b[0mcreate_from_networkx\u001b[0m\u001b[0;34m(\u001b[0m\u001b[0mself\u001b[0m\u001b[0;34m.\u001b[0m\u001b[0mnetwork\u001b[0m\u001b[0;34m)\u001b[0m\u001b[0;34m\u001b[0m\u001b[0m\n",
      "\u001b[0;32m~/bin/anaconda3/envs/nbgwas2/lib/python3.6/site-packages/py2cytoscape/data/cyrest_client.py\u001b[0m in \u001b[0;36m__init__\u001b[0;34m(self, ip, port, version)\u001b[0m\n\u001b[1;32m     17\u001b[0m \u001b[0;34m\u001b[0m\u001b[0m\n\u001b[1;32m     18\u001b[0m         \u001b[0mself\u001b[0m\u001b[0;34m.\u001b[0m\u001b[0mnetwork\u001b[0m \u001b[0;34m=\u001b[0m \u001b[0mNetworkClient\u001b[0m\u001b[0;34m(\u001b[0m\u001b[0mself\u001b[0m\u001b[0;34m.\u001b[0m\u001b[0m__url\u001b[0m\u001b[0;34m)\u001b[0m\u001b[0;34m\u001b[0m\u001b[0m\n\u001b[0;32m---> 19\u001b[0;31m         \u001b[0mself\u001b[0m\u001b[0;34m.\u001b[0m\u001b[0mstyle\u001b[0m \u001b[0;34m=\u001b[0m \u001b[0mStyleClient\u001b[0m\u001b[0;34m(\u001b[0m\u001b[0mself\u001b[0m\u001b[0;34m.\u001b[0m\u001b[0m__url\u001b[0m\u001b[0;34m)\u001b[0m\u001b[0;34m\u001b[0m\u001b[0m\n\u001b[0m\u001b[1;32m     20\u001b[0m         \u001b[0mself\u001b[0m\u001b[0;34m.\u001b[0m\u001b[0mlayout\u001b[0m \u001b[0;34m=\u001b[0m \u001b[0mLayoutClient\u001b[0m\u001b[0;34m(\u001b[0m\u001b[0mself\u001b[0m\u001b[0;34m.\u001b[0m\u001b[0m__url\u001b[0m\u001b[0;34m)\u001b[0m\u001b[0;34m\u001b[0m\u001b[0m\n\u001b[1;32m     21\u001b[0m         \u001b[0mself\u001b[0m\u001b[0;34m.\u001b[0m\u001b[0medgebundling\u001b[0m \u001b[0;34m=\u001b[0m \u001b[0mEdgeBundlingClient\u001b[0m\u001b[0;34m(\u001b[0m\u001b[0mself\u001b[0m\u001b[0;34m.\u001b[0m\u001b[0m__url\u001b[0m\u001b[0;34m)\u001b[0m\u001b[0;34m\u001b[0m\u001b[0m\n",
      "\u001b[0;32m~/bin/anaconda3/envs/nbgwas2/lib/python3.6/site-packages/py2cytoscape/data/style_client.py\u001b[0m in \u001b[0;36m__init__\u001b[0;34m(self, url)\u001b[0m\n\u001b[1;32m     14\u001b[0m         \u001b[0mself\u001b[0m\u001b[0;34m.\u001b[0m\u001b[0m__url_apply\u001b[0m \u001b[0;34m=\u001b[0m \u001b[0murl\u001b[0m \u001b[0;34m+\u001b[0m \u001b[0;34m'apply/styles/'\u001b[0m\u001b[0;34m\u001b[0m\u001b[0m\n\u001b[1;32m     15\u001b[0m \u001b[0;34m\u001b[0m\u001b[0m\n\u001b[0;32m---> 16\u001b[0;31m         \u001b[0mself\u001b[0m\u001b[0;34m.\u001b[0m\u001b[0mvps\u001b[0m \u001b[0;34m=\u001b[0m \u001b[0mVisualProperties\u001b[0m\u001b[0;34m(\u001b[0m\u001b[0murl\u001b[0m\u001b[0;34m)\u001b[0m\u001b[0;34m\u001b[0m\u001b[0m\n\u001b[0m\u001b[1;32m     17\u001b[0m \u001b[0;34m\u001b[0m\u001b[0m\n\u001b[1;32m     18\u001b[0m     \u001b[0;32mdef\u001b[0m \u001b[0mcreate\u001b[0m\u001b[0;34m(\u001b[0m\u001b[0mself\u001b[0m\u001b[0;34m,\u001b[0m \u001b[0mname\u001b[0m\u001b[0;34m=\u001b[0m\u001b[0;32mNone\u001b[0m\u001b[0;34m,\u001b[0m \u001b[0moriginal_style\u001b[0m\u001b[0;34m=\u001b[0m\u001b[0;32mNone\u001b[0m\u001b[0;34m)\u001b[0m\u001b[0;34m:\u001b[0m\u001b[0;34m\u001b[0m\u001b[0m\n",
      "\u001b[0;32m~/bin/anaconda3/envs/nbgwas2/lib/python3.6/site-packages/py2cytoscape/data/style_client.py\u001b[0m in \u001b[0;36m__init__\u001b[0;34m(self, url)\u001b[0m\n\u001b[1;32m     75\u001b[0m     \u001b[0;32mdef\u001b[0m \u001b[0m__init__\u001b[0m\u001b[0;34m(\u001b[0m\u001b[0mself\u001b[0m\u001b[0;34m,\u001b[0m \u001b[0murl\u001b[0m\u001b[0;34m)\u001b[0m\u001b[0;34m:\u001b[0m\u001b[0;34m\u001b[0m\u001b[0m\n\u001b[1;32m     76\u001b[0m         \u001b[0mself\u001b[0m\u001b[0;34m.\u001b[0m\u001b[0m__url\u001b[0m \u001b[0;34m=\u001b[0m \u001b[0murl\u001b[0m \u001b[0;34m+\u001b[0m \u001b[0;34m'styles/visualproperties'\u001b[0m\u001b[0;34m\u001b[0m\u001b[0m\n\u001b[0;32m---> 77\u001b[0;31m         \u001b[0mself\u001b[0m\u001b[0;34m.\u001b[0m\u001b[0m__convert_to_dict\u001b[0m\u001b[0;34m(\u001b[0m\u001b[0;34m)\u001b[0m\u001b[0;34m\u001b[0m\u001b[0m\n\u001b[0m\u001b[1;32m     78\u001b[0m \u001b[0;34m\u001b[0m\u001b[0m\n\u001b[1;32m     79\u001b[0m     \u001b[0;32mdef\u001b[0m \u001b[0m__convert_to_dict\u001b[0m\u001b[0;34m(\u001b[0m\u001b[0mself\u001b[0m\u001b[0;34m)\u001b[0m\u001b[0;34m:\u001b[0m\u001b[0;34m\u001b[0m\u001b[0m\n",
      "\u001b[0;32m~/bin/anaconda3/envs/nbgwas2/lib/python3.6/site-packages/py2cytoscape/data/style_client.py\u001b[0m in \u001b[0;36m__convert_to_dict\u001b[0;34m(self)\u001b[0m\n\u001b[1;32m     78\u001b[0m \u001b[0;34m\u001b[0m\u001b[0m\n\u001b[1;32m     79\u001b[0m     \u001b[0;32mdef\u001b[0m \u001b[0m__convert_to_dict\u001b[0m\u001b[0;34m(\u001b[0m\u001b[0mself\u001b[0m\u001b[0;34m)\u001b[0m\u001b[0;34m:\u001b[0m\u001b[0;34m\u001b[0m\u001b[0m\n\u001b[0;32m---> 80\u001b[0;31m         \u001b[0mvps\u001b[0m \u001b[0;34m=\u001b[0m \u001b[0mrequests\u001b[0m\u001b[0;34m.\u001b[0m\u001b[0mget\u001b[0m\u001b[0;34m(\u001b[0m\u001b[0mself\u001b[0m\u001b[0;34m.\u001b[0m\u001b[0m__url\u001b[0m\u001b[0;34m)\u001b[0m\u001b[0;34m.\u001b[0m\u001b[0mjson\u001b[0m\u001b[0;34m(\u001b[0m\u001b[0;34m)\u001b[0m\u001b[0;34m\u001b[0m\u001b[0m\n\u001b[0m\u001b[1;32m     81\u001b[0m         \u001b[0mvp_dict\u001b[0m \u001b[0;34m=\u001b[0m \u001b[0;34m{\u001b[0m\u001b[0;34m}\u001b[0m\u001b[0;34m\u001b[0m\u001b[0m\n\u001b[1;32m     82\u001b[0m         \u001b[0mnode_vps\u001b[0m \u001b[0;34m=\u001b[0m \u001b[0;34m[\u001b[0m\u001b[0;34m]\u001b[0m\u001b[0;34m\u001b[0m\u001b[0m\n",
      "\u001b[0;32m~/bin/anaconda3/envs/nbgwas2/lib/python3.6/site-packages/requests/api.py\u001b[0m in \u001b[0;36mget\u001b[0;34m(url, params, **kwargs)\u001b[0m\n\u001b[1;32m     70\u001b[0m \u001b[0;34m\u001b[0m\u001b[0m\n\u001b[1;32m     71\u001b[0m     \u001b[0mkwargs\u001b[0m\u001b[0;34m.\u001b[0m\u001b[0msetdefault\u001b[0m\u001b[0;34m(\u001b[0m\u001b[0;34m'allow_redirects'\u001b[0m\u001b[0;34m,\u001b[0m \u001b[0;32mTrue\u001b[0m\u001b[0;34m)\u001b[0m\u001b[0;34m\u001b[0m\u001b[0m\n\u001b[0;32m---> 72\u001b[0;31m     \u001b[0;32mreturn\u001b[0m \u001b[0mrequest\u001b[0m\u001b[0;34m(\u001b[0m\u001b[0;34m'get'\u001b[0m\u001b[0;34m,\u001b[0m \u001b[0murl\u001b[0m\u001b[0;34m,\u001b[0m \u001b[0mparams\u001b[0m\u001b[0;34m=\u001b[0m\u001b[0mparams\u001b[0m\u001b[0;34m,\u001b[0m \u001b[0;34m**\u001b[0m\u001b[0mkwargs\u001b[0m\u001b[0;34m)\u001b[0m\u001b[0;34m\u001b[0m\u001b[0m\n\u001b[0m\u001b[1;32m     73\u001b[0m \u001b[0;34m\u001b[0m\u001b[0m\n\u001b[1;32m     74\u001b[0m \u001b[0;34m\u001b[0m\u001b[0m\n",
      "\u001b[0;32m~/bin/anaconda3/envs/nbgwas2/lib/python3.6/site-packages/requests/api.py\u001b[0m in \u001b[0;36mrequest\u001b[0;34m(method, url, **kwargs)\u001b[0m\n\u001b[1;32m     56\u001b[0m     \u001b[0;31m# cases, and look like a memory leak in others.\u001b[0m\u001b[0;34m\u001b[0m\u001b[0;34m\u001b[0m\u001b[0m\n\u001b[1;32m     57\u001b[0m     \u001b[0;32mwith\u001b[0m \u001b[0msessions\u001b[0m\u001b[0;34m.\u001b[0m\u001b[0mSession\u001b[0m\u001b[0;34m(\u001b[0m\u001b[0;34m)\u001b[0m \u001b[0;32mas\u001b[0m \u001b[0msession\u001b[0m\u001b[0;34m:\u001b[0m\u001b[0;34m\u001b[0m\u001b[0m\n\u001b[0;32m---> 58\u001b[0;31m         \u001b[0;32mreturn\u001b[0m \u001b[0msession\u001b[0m\u001b[0;34m.\u001b[0m\u001b[0mrequest\u001b[0m\u001b[0;34m(\u001b[0m\u001b[0mmethod\u001b[0m\u001b[0;34m=\u001b[0m\u001b[0mmethod\u001b[0m\u001b[0;34m,\u001b[0m \u001b[0murl\u001b[0m\u001b[0;34m=\u001b[0m\u001b[0murl\u001b[0m\u001b[0;34m,\u001b[0m \u001b[0;34m**\u001b[0m\u001b[0mkwargs\u001b[0m\u001b[0;34m)\u001b[0m\u001b[0;34m\u001b[0m\u001b[0m\n\u001b[0m\u001b[1;32m     59\u001b[0m \u001b[0;34m\u001b[0m\u001b[0m\n\u001b[1;32m     60\u001b[0m \u001b[0;34m\u001b[0m\u001b[0m\n",
      "\u001b[0;32m~/bin/anaconda3/envs/nbgwas2/lib/python3.6/site-packages/requests/sessions.py\u001b[0m in \u001b[0;36mrequest\u001b[0;34m(self, method, url, params, data, headers, cookies, files, auth, timeout, allow_redirects, proxies, hooks, stream, verify, cert, json)\u001b[0m\n\u001b[1;32m    510\u001b[0m         }\n\u001b[1;32m    511\u001b[0m         \u001b[0msend_kwargs\u001b[0m\u001b[0;34m.\u001b[0m\u001b[0mupdate\u001b[0m\u001b[0;34m(\u001b[0m\u001b[0msettings\u001b[0m\u001b[0;34m)\u001b[0m\u001b[0;34m\u001b[0m\u001b[0m\n\u001b[0;32m--> 512\u001b[0;31m         \u001b[0mresp\u001b[0m \u001b[0;34m=\u001b[0m \u001b[0mself\u001b[0m\u001b[0;34m.\u001b[0m\u001b[0msend\u001b[0m\u001b[0;34m(\u001b[0m\u001b[0mprep\u001b[0m\u001b[0;34m,\u001b[0m \u001b[0;34m**\u001b[0m\u001b[0msend_kwargs\u001b[0m\u001b[0;34m)\u001b[0m\u001b[0;34m\u001b[0m\u001b[0m\n\u001b[0m\u001b[1;32m    513\u001b[0m \u001b[0;34m\u001b[0m\u001b[0m\n\u001b[1;32m    514\u001b[0m         \u001b[0;32mreturn\u001b[0m \u001b[0mresp\u001b[0m\u001b[0;34m\u001b[0m\u001b[0m\n",
      "\u001b[0;32m~/bin/anaconda3/envs/nbgwas2/lib/python3.6/site-packages/requests/sessions.py\u001b[0m in \u001b[0;36msend\u001b[0;34m(self, request, **kwargs)\u001b[0m\n\u001b[1;32m    620\u001b[0m \u001b[0;34m\u001b[0m\u001b[0m\n\u001b[1;32m    621\u001b[0m         \u001b[0;31m# Send the request\u001b[0m\u001b[0;34m\u001b[0m\u001b[0;34m\u001b[0m\u001b[0m\n\u001b[0;32m--> 622\u001b[0;31m         \u001b[0mr\u001b[0m \u001b[0;34m=\u001b[0m \u001b[0madapter\u001b[0m\u001b[0;34m.\u001b[0m\u001b[0msend\u001b[0m\u001b[0;34m(\u001b[0m\u001b[0mrequest\u001b[0m\u001b[0;34m,\u001b[0m \u001b[0;34m**\u001b[0m\u001b[0mkwargs\u001b[0m\u001b[0;34m)\u001b[0m\u001b[0;34m\u001b[0m\u001b[0m\n\u001b[0m\u001b[1;32m    623\u001b[0m \u001b[0;34m\u001b[0m\u001b[0m\n\u001b[1;32m    624\u001b[0m         \u001b[0;31m# Total elapsed time of the request (approximately)\u001b[0m\u001b[0;34m\u001b[0m\u001b[0;34m\u001b[0m\u001b[0m\n",
      "\u001b[0;32m~/bin/anaconda3/envs/nbgwas2/lib/python3.6/site-packages/requests/adapters.py\u001b[0m in \u001b[0;36msend\u001b[0;34m(self, request, stream, timeout, verify, cert, proxies)\u001b[0m\n\u001b[1;32m    511\u001b[0m                 \u001b[0;32mraise\u001b[0m \u001b[0mSSLError\u001b[0m\u001b[0;34m(\u001b[0m\u001b[0me\u001b[0m\u001b[0;34m,\u001b[0m \u001b[0mrequest\u001b[0m\u001b[0;34m=\u001b[0m\u001b[0mrequest\u001b[0m\u001b[0;34m)\u001b[0m\u001b[0;34m\u001b[0m\u001b[0m\n\u001b[1;32m    512\u001b[0m \u001b[0;34m\u001b[0m\u001b[0m\n\u001b[0;32m--> 513\u001b[0;31m             \u001b[0;32mraise\u001b[0m \u001b[0mConnectionError\u001b[0m\u001b[0;34m(\u001b[0m\u001b[0me\u001b[0m\u001b[0;34m,\u001b[0m \u001b[0mrequest\u001b[0m\u001b[0;34m=\u001b[0m\u001b[0mrequest\u001b[0m\u001b[0;34m)\u001b[0m\u001b[0;34m\u001b[0m\u001b[0m\n\u001b[0m\u001b[1;32m    514\u001b[0m \u001b[0;34m\u001b[0m\u001b[0m\n\u001b[1;32m    515\u001b[0m         \u001b[0;32mexcept\u001b[0m \u001b[0mClosedPoolError\u001b[0m \u001b[0;32mas\u001b[0m \u001b[0me\u001b[0m\u001b[0;34m:\u001b[0m\u001b[0;34m\u001b[0m\u001b[0m\n",
      "\u001b[0;31mConnectionError\u001b[0m: HTTPConnectionPool(host='localhost', port=1234): Max retries exceeded with url: /v1/styles/visualproperties (Caused by NewConnectionError('<urllib3.connection.HTTPConnection object at 0x7f54700a79b0>: Failed to establish a new connection: [Errno 111] Connection refused',))"
     ]
    }
   ],
   "source": [
    "g.network.local_neighborhood(center_name='PGBD1', neighbors=1).view_in_cytoscape()"
   ]
  },
  {
   "cell_type": "markdown",
   "metadata": {},
   "source": [
    "# Evaluating Performance"
   ]
  },
  {
   "cell_type": "code",
   "execution_count": 109,
   "metadata": {},
   "outputs": [],
   "source": [
    "with open('../../nbgwas_analysis/data/gold_standards/SZ_hugo_genes_only.txt') as f: \n",
    "    gold_standard = [i.strip() for i in f.readlines()]"
   ]
  },
  {
   "cell_type": "code",
   "execution_count": 110,
   "metadata": {},
   "outputs": [
    {
     "data": {
      "text/html": [
       "<div>\n",
       "<style scoped>\n",
       "    .dataframe tbody tr th:only-of-type {\n",
       "        vertical-align: middle;\n",
       "    }\n",
       "\n",
       "    .dataframe tbody tr th {\n",
       "        vertical-align: top;\n",
       "    }\n",
       "\n",
       "    .dataframe thead th {\n",
       "        text-align: right;\n",
       "    }\n",
       "</style>\n",
       "<table border=\"1\" class=\"dataframe\">\n",
       "  <thead>\n",
       "    <tr style=\"text-align: right;\">\n",
       "      <th></th>\n",
       "      <th>Gene</th>\n",
       "      <th>Chr</th>\n",
       "      <th>Gene Start</th>\n",
       "      <th>Gene End</th>\n",
       "      <th>nSNPs</th>\n",
       "      <th>TopSNP</th>\n",
       "      <th>TopSNP Pos</th>\n",
       "      <th>TopSNP P-Value</th>\n",
       "      <th>SNP Distance</th>\n",
       "      <th>Binarized Heat</th>\n",
       "      <th>Negative Log</th>\n",
       "    </tr>\n",
       "  </thead>\n",
       "  <tbody>\n",
       "    <tr>\n",
       "      <th>5905</th>\n",
       "      <td>HIST1H4K</td>\n",
       "      <td>6</td>\n",
       "      <td>27906930</td>\n",
       "      <td>27907284</td>\n",
       "      <td>8</td>\n",
       "      <td>rs34706883</td>\n",
       "      <td>27913234.0</td>\n",
       "      <td>5.071180e-10</td>\n",
       "      <td>6304.0</td>\n",
       "      <td>1.0</td>\n",
       "      <td>21.402277</td>\n",
       "    </tr>\n",
       "    <tr>\n",
       "      <th>5867</th>\n",
       "      <td>HIST1H2AK</td>\n",
       "      <td>6</td>\n",
       "      <td>27913636</td>\n",
       "      <td>27914096</td>\n",
       "      <td>16</td>\n",
       "      <td>rs34706883</td>\n",
       "      <td>27913234.0</td>\n",
       "      <td>5.071180e-10</td>\n",
       "      <td>402.0</td>\n",
       "      <td>1.0</td>\n",
       "      <td>21.402277</td>\n",
       "    </tr>\n",
       "    <tr>\n",
       "      <th>5883</th>\n",
       "      <td>HIST1H2BN</td>\n",
       "      <td>6</td>\n",
       "      <td>27914418</td>\n",
       "      <td>27914867</td>\n",
       "      <td>17</td>\n",
       "      <td>rs34706883</td>\n",
       "      <td>27913234.0</td>\n",
       "      <td>5.071180e-10</td>\n",
       "      <td>1184.0</td>\n",
       "      <td>1.0</td>\n",
       "      <td>21.402277</td>\n",
       "    </tr>\n",
       "    <tr>\n",
       "      <th>5893</th>\n",
       "      <td>HIST1H3I</td>\n",
       "      <td>6</td>\n",
       "      <td>27947601</td>\n",
       "      <td>27948078</td>\n",
       "      <td>10</td>\n",
       "      <td>rs13199772</td>\n",
       "      <td>27942064.0</td>\n",
       "      <td>7.053790e-10</td>\n",
       "      <td>5537.0</td>\n",
       "      <td>1.0</td>\n",
       "      <td>21.072286</td>\n",
       "    </tr>\n",
       "    <tr>\n",
       "      <th>5906</th>\n",
       "      <td>HIST1H4L</td>\n",
       "      <td>6</td>\n",
       "      <td>27948904</td>\n",
       "      <td>27949268</td>\n",
       "      <td>10</td>\n",
       "      <td>rs13199772</td>\n",
       "      <td>27942064.0</td>\n",
       "      <td>7.053790e-10</td>\n",
       "      <td>6840.0</td>\n",
       "      <td>1.0</td>\n",
       "      <td>21.072286</td>\n",
       "    </tr>\n",
       "  </tbody>\n",
       "</table>\n",
       "</div>"
      ],
      "text/plain": [
       "           Gene  Chr  Gene Start  Gene End  nSNPs      TopSNP  TopSNP Pos  \\\n",
       "5905   HIST1H4K    6    27906930  27907284      8  rs34706883  27913234.0   \n",
       "5867  HIST1H2AK    6    27913636  27914096     16  rs34706883  27913234.0   \n",
       "5883  HIST1H2BN    6    27914418  27914867     17  rs34706883  27913234.0   \n",
       "5893   HIST1H3I    6    27947601  27948078     10  rs13199772  27942064.0   \n",
       "5906   HIST1H4L    6    27948904  27949268     10  rs13199772  27942064.0   \n",
       "\n",
       "      TopSNP P-Value  SNP Distance  Binarized Heat  Negative Log  \n",
       "5905    5.071180e-10        6304.0             1.0     21.402277  \n",
       "5867    5.071180e-10         402.0             1.0     21.402277  \n",
       "5883    5.071180e-10        1184.0             1.0     21.402277  \n",
       "5893    7.053790e-10        5537.0             1.0     21.072286  \n",
       "5906    7.053790e-10        6840.0             1.0     21.072286  "
      ]
     },
     "execution_count": 110,
     "metadata": {},
     "output_type": "execute_result"
    }
   ],
   "source": [
    "g.genes.table.head()"
   ]
  },
  {
   "cell_type": "code",
   "execution_count": 113,
   "metadata": {},
   "outputs": [
    {
     "name": "stdout",
     "output_type": "stream",
     "text": [
      "Index(['Gene', 'Chr', 'Gene Start', 'Gene End', 'nSNPs', 'TopSNP',\n",
      "       'TopSNP Pos', 'TopSNP P-Value', 'SNP Distance', 'Binarized Heat',\n",
      "       'Negative Log', 'Diffused (Log)_x', 'name', 'Diffused (Log)_y'],\n",
      "      dtype='object')\n"
     ]
    },
    {
     "data": {
      "text/plain": [
       "<nbgwas.nbgwas.Nbgwas at 0x7fa8b9ee5208>"
      ]
     },
     "execution_count": 113,
     "metadata": {},
     "output_type": "execute_result"
    }
   ],
   "source": [
    "g.map_to_gene_table(columns=['Diffused (Log)'])"
   ]
  },
  {
   "cell_type": "code",
   "execution_count": 115,
   "metadata": {},
   "outputs": [
    {
     "data": {
      "text/html": [
       "<div>\n",
       "<style scoped>\n",
       "    .dataframe tbody tr th:only-of-type {\n",
       "        vertical-align: middle;\n",
       "    }\n",
       "\n",
       "    .dataframe tbody tr th {\n",
       "        vertical-align: top;\n",
       "    }\n",
       "\n",
       "    .dataframe thead th {\n",
       "        text-align: right;\n",
       "    }\n",
       "</style>\n",
       "<table border=\"1\" class=\"dataframe\">\n",
       "  <thead>\n",
       "    <tr style=\"text-align: right;\">\n",
       "      <th></th>\n",
       "      <th>Gene</th>\n",
       "      <th>Chr</th>\n",
       "      <th>Gene Start</th>\n",
       "      <th>Gene End</th>\n",
       "      <th>nSNPs</th>\n",
       "      <th>TopSNP</th>\n",
       "      <th>TopSNP Pos</th>\n",
       "      <th>TopSNP P-Value</th>\n",
       "      <th>SNP Distance</th>\n",
       "      <th>Binarized Heat</th>\n",
       "      <th>Negative Log</th>\n",
       "      <th>Diffused (Log)_x</th>\n",
       "      <th>Diffused (Log)_y</th>\n",
       "    </tr>\n",
       "  </thead>\n",
       "  <tbody>\n",
       "    <tr>\n",
       "      <th>11937</th>\n",
       "      <td>UBC</td>\n",
       "      <td>12.0</td>\n",
       "      <td>123964079.0</td>\n",
       "      <td>123964618.0</td>\n",
       "      <td>10.0</td>\n",
       "      <td>rs7313732</td>\n",
       "      <td>123970446.0</td>\n",
       "      <td>0.177120</td>\n",
       "      <td>6367.0</td>\n",
       "      <td>0.0</td>\n",
       "      <td>1.730928</td>\n",
       "      <td>90.492111</td>\n",
       "      <td>90.492111</td>\n",
       "    </tr>\n",
       "    <tr>\n",
       "      <th>82</th>\n",
       "      <td>APP</td>\n",
       "      <td>21.0</td>\n",
       "      <td>26316026.0</td>\n",
       "      <td>26434649.0</td>\n",
       "      <td>71.0</td>\n",
       "      <td>rs16997475</td>\n",
       "      <td>26430592.0</td>\n",
       "      <td>0.000010</td>\n",
       "      <td>114566.0</td>\n",
       "      <td>0.0</td>\n",
       "      <td>11.557914</td>\n",
       "      <td>33.418802</td>\n",
       "      <td>33.418802</td>\n",
       "    </tr>\n",
       "    <tr>\n",
       "      <th>13568</th>\n",
       "      <td>HNF4A</td>\n",
       "      <td>20.0</td>\n",
       "      <td>42463337.0</td>\n",
       "      <td>42493444.0</td>\n",
       "      <td>46.0</td>\n",
       "      <td>rs6093976</td>\n",
       "      <td>42469194.0</td>\n",
       "      <td>0.289400</td>\n",
       "      <td>5857.0</td>\n",
       "      <td>0.0</td>\n",
       "      <td>1.239945</td>\n",
       "      <td>23.489276</td>\n",
       "      <td>23.489276</td>\n",
       "    </tr>\n",
       "    <tr>\n",
       "      <th>14966</th>\n",
       "      <td>TAF1</td>\n",
       "      <td>NaN</td>\n",
       "      <td>NaN</td>\n",
       "      <td>NaN</td>\n",
       "      <td>NaN</td>\n",
       "      <td>NaN</td>\n",
       "      <td>NaN</td>\n",
       "      <td>NaN</td>\n",
       "      <td>NaN</td>\n",
       "      <td>NaN</td>\n",
       "      <td>NaN</td>\n",
       "      <td>23.222991</td>\n",
       "      <td>23.222991</td>\n",
       "    </tr>\n",
       "    <tr>\n",
       "      <th>9242</th>\n",
       "      <td>PRKACB</td>\n",
       "      <td>1.0</td>\n",
       "      <td>84402974.0</td>\n",
       "      <td>84476769.0</td>\n",
       "      <td>23.0</td>\n",
       "      <td>rs970318</td>\n",
       "      <td>84454767.0</td>\n",
       "      <td>0.090335</td>\n",
       "      <td>51793.0</td>\n",
       "      <td>0.0</td>\n",
       "      <td>2.404228</td>\n",
       "      <td>23.139555</td>\n",
       "      <td>23.139555</td>\n",
       "    </tr>\n",
       "  </tbody>\n",
       "</table>\n",
       "</div>"
      ],
      "text/plain": [
       "         Gene   Chr   Gene Start     Gene End  nSNPs      TopSNP   TopSNP Pos  \\\n",
       "11937     UBC  12.0  123964079.0  123964618.0   10.0   rs7313732  123970446.0   \n",
       "82        APP  21.0   26316026.0   26434649.0   71.0  rs16997475   26430592.0   \n",
       "13568   HNF4A  20.0   42463337.0   42493444.0   46.0   rs6093976   42469194.0   \n",
       "14966    TAF1   NaN          NaN          NaN    NaN         NaN          NaN   \n",
       "9242   PRKACB   1.0   84402974.0   84476769.0   23.0    rs970318   84454767.0   \n",
       "\n",
       "       TopSNP P-Value  SNP Distance  Binarized Heat  Negative Log  \\\n",
       "11937        0.177120        6367.0             0.0      1.730928   \n",
       "82           0.000010      114566.0             0.0     11.557914   \n",
       "13568        0.289400        5857.0             0.0      1.239945   \n",
       "14966             NaN           NaN             NaN           NaN   \n",
       "9242         0.090335       51793.0             0.0      2.404228   \n",
       "\n",
       "       Diffused (Log)_x  Diffused (Log)_y  \n",
       "11937         90.492111         90.492111  \n",
       "82            33.418802         33.418802  \n",
       "13568         23.489276         23.489276  \n",
       "14966         23.222991         23.222991  \n",
       "9242          23.139555         23.139555  "
      ]
     },
     "execution_count": 115,
     "metadata": {},
     "output_type": "execute_result"
    }
   ],
   "source": [
    "g.genes.table.sort_values(by='Diffused (Log)_x', ascending=False).head()"
   ]
  },
  {
   "cell_type": "code",
   "execution_count": 24,
   "metadata": {},
   "outputs": [
    {
     "data": {
      "text/plain": [
       "Hypergeom(pvalue=0.0, n_intersect=33, common_items={'YWHAZ', 'GNB1', 'CALM1', 'JUN', 'PGBD1', 'EGFR', 'RET', 'GNAL', 'GRB2', 'ESR1', 'TP53', 'GAPDH', 'ACTB', 'PIK3C2A', 'TCF4', 'GNAO1', 'HDAC1', 'NTRK1', 'CTNNB1', 'HSPD1', 'INS', 'GRK3', 'HSP90AA1', 'AKT1', 'HSPA5', 'SP1', 'FYN', 'HSPA8', 'EGF', 'ARRB2', 'APP', 'YWHAE', 'PCNA'})"
      ]
     },
     "execution_count": 24,
     "metadata": {},
     "output_type": "execute_result"
    }
   ],
   "source": [
    "g.hypergeom(gold_standard, 'Diffused (Log)', table='network')"
   ]
  },
  {
   "cell_type": "code",
   "execution_count": null,
   "metadata": {},
   "outputs": [],
   "source": []
  }
 ],
 "metadata": {
  "kernelspec": {
   "display_name": "Python (nbgwas2)",
   "language": "python",
   "name": "nbgwas2"
  },
  "language_info": {
   "codemirror_mode": {
    "name": "ipython",
    "version": 3
   },
   "file_extension": ".py",
   "mimetype": "text/x-python",
   "name": "python",
   "nbconvert_exporter": "python",
   "pygments_lexer": "ipython3",
   "version": "3.6.6"
  }
 },
 "nbformat": 4,
 "nbformat_minor": 2
}
